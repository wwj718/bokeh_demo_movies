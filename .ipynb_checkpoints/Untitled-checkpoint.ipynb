{
 "cells": [
  {
   "cell_type": "code",
   "execution_count": 9,
   "metadata": {
    "collapsed": false
   },
   "outputs": [],
   "source": [
    "from bokeh.sampledata.movies_data import movie_path\n",
    "from os.path import dirname, join\n",
    "import pandas.io.sql as psql\n",
    "import sqlite3 as sql\n",
    "query = open('./query.sql').read()\n",
    "conn = sql.connect(movie_path)\n",
    "movies = psql.read_sql(query, conn)"
   ]
  },
  {
   "cell_type": "code",
   "execution_count": 13,
   "metadata": {
    "collapsed": false
   },
   "outputs": [
    {
     "data": {
      "text/plain": [
       "Index([u'ID', u'imdbID', u'Title', u'Year', u'mpaaRating', u'Runtime', u'Genre', u'Released', u'Director', u'Writer', u'Cast', u'imdbRating', u'imdbVotes', u'Language', u'Country', u'Oscars', u'numericRating', u'Meter', u'Reviews', u'Fresh', u'Rotten', u'userMeter', u'userRating', u'userReviews', u'BoxOffice', u'Production'], dtype='object')"
      ]
     },
     "execution_count": 13,
     "metadata": {},
     "output_type": "execute_result"
    }
   ],
   "source": [
    "movies.columns"
   ]
  },
  {
   "cell_type": "code",
   "execution_count": 14,
   "metadata": {
    "collapsed": false
   },
   "outputs": [],
   "source": [
    "#movies.columns\n",
    "#print movie_path"
   ]
  },
  {
   "cell_type": "code",
   "execution_count": 16,
   "metadata": {
    "collapsed": true
   },
   "outputs": [],
   "source": [
    "import numpy as np\n",
    "movies[\"color\"] = np.where(movies[\"Oscars\"] > 0, \"orange\", \"grey\")"
   ]
  },
  {
   "cell_type": "code",
   "execution_count": 17,
   "metadata": {
    "collapsed": false
   },
   "outputs": [
    {
     "data": {
      "text/plain": [
       "0        grey\n",
       "1        grey\n",
       "2        grey\n",
       "3        grey\n",
       "4        grey\n",
       "5        grey\n",
       "6        grey\n",
       "7        grey\n",
       "8        grey\n",
       "9        grey\n",
       "10       grey\n",
       "11       grey\n",
       "12       grey\n",
       "13       grey\n",
       "14       grey\n",
       "15       grey\n",
       "16       grey\n",
       "17       grey\n",
       "18       grey\n",
       "19       grey\n",
       "20       grey\n",
       "21       grey\n",
       "22       grey\n",
       "23       grey\n",
       "24       grey\n",
       "25       grey\n",
       "26       grey\n",
       "27       grey\n",
       "28       grey\n",
       "29       grey\n",
       "         ... \n",
       "12539    grey\n",
       "12540    grey\n",
       "12541    grey\n",
       "12542    grey\n",
       "12543    grey\n",
       "12544    grey\n",
       "12545    grey\n",
       "12546    grey\n",
       "12547    grey\n",
       "12548    grey\n",
       "12549    grey\n",
       "12550    grey\n",
       "12551    grey\n",
       "12552    grey\n",
       "12553    grey\n",
       "12554    grey\n",
       "12555    grey\n",
       "12556    grey\n",
       "12557    grey\n",
       "12558    grey\n",
       "12559    grey\n",
       "12560    grey\n",
       "12561    grey\n",
       "12562    grey\n",
       "12563    grey\n",
       "12564    grey\n",
       "12565    grey\n",
       "12566    grey\n",
       "12567    grey\n",
       "12568    grey\n",
       "Name: color, dtype: object"
      ]
     },
     "execution_count": 17,
     "metadata": {},
     "output_type": "execute_result"
    }
   ],
   "source": [
    "movies[\"color\"]"
   ]
  }
 ],
 "metadata": {
  "kernelspec": {
   "display_name": "Python 2",
   "language": "python",
   "name": "python2"
  },
  "language_info": {
   "codemirror_mode": {
    "name": "ipython",
    "version": 2
   },
   "file_extension": ".py",
   "mimetype": "text/x-python",
   "name": "python",
   "nbconvert_exporter": "python",
   "pygments_lexer": "ipython2",
   "version": "2.7.5"
  },
  "toc": {
   "toc_cell": false,
   "toc_number_sections": true,
   "toc_threshold": 6,
   "toc_window_display": false
  }
 },
 "nbformat": 4,
 "nbformat_minor": 0
}
